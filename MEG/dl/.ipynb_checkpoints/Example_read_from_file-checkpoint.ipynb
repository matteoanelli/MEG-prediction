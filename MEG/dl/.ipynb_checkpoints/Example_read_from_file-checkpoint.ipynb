{
 "cells": [
  {
   "cell_type": "markdown",
   "metadata": {
    "collapsed": true,
    "pycharm": {
     "name": "#%% md\n"
    }
   },
   "source": [
    "The preprocessed data are stored in a HDF5 file.\n",
    "Which are array-like collections of data, and groups, which are folder-like containers that hold datasets and\n",
    "other groups.\n",
    "\n",
    "Python h5py is the package to use.\n",
    "\n",
    "The data are divided by group composed by the subject and in each sub there are the following dataset:"
   ]
  },
  {
   "cell_type": "markdown",
   "metadata": {
    "pycharm": {
     "name": "#%% md\n"
    }
   },
   "source": [
    "* sub1\n",
    "   * MEG - the preprocessed MEG data of shape [n_epoch, 204, 501], sampling rate 500 Hz and already standardized (based on each trial).\n",
    "   * ACC_original - the Accelerometer MISC data of shape [n_epoch, 6, 501]\n",
    "   * RPS - the RPS data of shape [n_epoch, 204, 6], bands: [(1, 4), (4, 8), (8, 10), (10, 13), (13, 30), (30, 70)]\n",
    "   * Y_left - the Y_left preprocessed [n_epoch, ] as in the original task (PCA + abs_sum), stundardized using the whole recording.\n",
    "\n",
    "    .\n",
    "\n",
    "    .\n",
    "\n",
    "    .\n",
    "\n",
    "* sub9\n",
    "   * MEG\n",
    "   * ACC_original\n",
    "   * RPS\n",
    "   * Y_left"
   ]
  },
  {
   "cell_type": "markdown",
   "metadata": {
    "pycharm": {
     "name": "#%% md\n"
    }
   },
   "source": [
    "## Installation\n",
    "\n",
    "[Quick start!](https://docs.h5py.org/en/latest/quick.html)\n",
    "\n",
    "version used: h5py==2.10.0"
   ]
  },
  {
   "cell_type": "markdown",
   "metadata": {},
   "source": [
    "file directory : /m/nbe/scratch/strokemotor/healthy_trans/preprocessed/\n",
    "\n",
    "file_name: data.hdf5"
   ]
  },
  {
   "cell_type": "markdown",
   "metadata": {
    "pycharm": {
     "name": "#%% md\n"
    }
   },
   "source": [
    "## Local example"
   ]
  },
  {
   "cell_type": "code",
   "execution_count": 1,
   "metadata": {
    "pycharm": {
     "name": "#%%\n"
    }
   },
   "outputs": [
    {
     "name": "stdout",
     "output_type": "stream",
     "text": [
      "<HDF5 file \"data.hdf5\" (mode r)>\n",
      "<KeysViewHDF5 ['sub1', 'sub2', 'sub5', 'sub8']>\n",
      "/sub1\n",
      "/sub1/ACC_original\n",
      "/sub1/MEG\n",
      "/sub1/RPS\n",
      "/sub1/Y_left\n",
      "/sub2\n",
      "/sub2/ACC_original\n",
      "/sub2/MEG\n",
      "/sub2/RPS\n",
      "/sub2/Y_left\n",
      "/sub5\n",
      "/sub5/ACC_original\n",
      "/sub5/MEG\n",
      "/sub5/RPS\n",
      "/sub5/Y_left\n",
      "/sub8\n",
      "/sub8/ACC_original\n",
      "/sub8/MEG\n",
      "/sub8/RPS\n",
      "/sub8/Y_left\n"
     ]
    }
   ],
   "source": [
    "import h5py\n",
    "\n",
    "with h5py.File(\"\".join([\"C:\\\\Users\\\\anellim1\\Develop\\Thesis\\mnematte\", \"\\data.hdf5\"]), \"r\") as f:\n",
    "    print(f)\n",
    "    print(f.keys())\n",
    "    for group in f.keys():\n",
    "        print(\"/{}\".format(group))\n",
    "        for dset in f[group].keys():\n",
    "            print(\"{}{}/{}\".format(f.name, group, dset))\n"
   ]
  },
  {
   "cell_type": "markdown",
   "metadata": {
    "pycharm": {
     "name": "#%% md\n"
    }
   },
   "source": [
    "How to access data sub8:"
   ]
  },
  {
   "cell_type": "code",
   "execution_count": 2,
   "metadata": {
    "pycharm": {
     "name": "#%%\n"
    }
   },
   "outputs": [
    {
     "name": "stdout",
     "output_type": "stream",
     "text": [
      "MEG data shape: (296, 204, 501)\n",
      "RPS data shape: (296, 204, 6)\n",
      "Target data shape: (296,)\n"
     ]
    }
   ],
   "source": [
    "with h5py.File(\"\".join([\"C:\\\\Users\\\\anellim1\\Develop\\Thesis\\mnematte\", \"\\data.hdf5\"]), \"r\") as f:\n",
    "\n",
    "    X = f[\"sub8\"][\"MEG\"]\n",
    "    print(\"MEG data shape:\", X.shape)\n",
    "\n",
    "    rps = f[\"sub8/RPS\"]\n",
    "    print(\"RPS data shape:\", rps.shape)\n",
    "\n",
    "    y_left = f.get(\"sub8/Y_left\")\n",
    "    print(\"Target data shape:\", y_left.shape)\n"
   ]
  }
 ],
 "metadata": {
  "kernelspec": {
   "display_name": "Python 3",
   "language": "python",
   "name": "python3"
  },
  "language_info": {
   "codemirror_mode": {
    "name": "ipython",
    "version": 3
   },
   "file_extension": ".py",
   "mimetype": "text/x-python",
   "name": "python",
   "nbconvert_exporter": "python",
   "pygments_lexer": "ipython3",
   "version": "3.7.7"
  }
 },
 "nbformat": 4,
 "nbformat_minor": 1
}
