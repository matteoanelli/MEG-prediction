{
 "cells": [
  {
   "cell_type": "code",
   "execution_count": null,
   "outputs": [],
   "source": [
    "import os\n",
    "import numpy as np\n",
    "from matplotlib import pyplot as plt"
   ],
   "metadata": {
    "collapsed": false,
    "pycharm": {
     "name": "#%%\n"
    }
   }
  },
  {
   "cell_type": "code",
   "execution_count": null,
   "outputs": [],
   "source": [
    "hand = 0\n",
    "subject = 1\n",
    "data_dir = \"Z:\\Desktop\\\\\""
   ],
   "metadata": {
    "collapsed": false,
    "pycharm": {
     "name": "#%%\n"
    }
   }
  },
  {
   "cell_type": "code",
   "execution_count": null,
   "outputs": [],
   "source": [
    "if hand == 0:\n",
    "    file_name = \"sub_{}_left.npz\".format(str(subject))\n",
    "    print(\"processing file :\", file_name)\n",
    "\n",
    "else:\n",
    "    file_name = \"sub_{}_right.npz\".format(str(subject))\n",
    "    print(\"processing file :\", file_name)\n",
    "\n",
    "\n",
    "dataset = np.load(os.path.join(data_dir, file_name))\n",
    "\n",
    "X = dataset[\"X_train\"]\n",
    "X = np.swapaxes(X, 2, -1).squeeze()\n",
    "del dataset"
   ],
   "metadata": {
    "collapsed": false,
    "pycharm": {
     "name": "#%%\n"
    }
   }
  },
  {
   "cell_type": "code",
   "execution_count": null,
   "outputs": [],
   "source": [
    "sf = 250\n",
    "data = X[100, 20, :]\n",
    "print(data.shape)\n",
    "time = np.arange(data.size) / sf"
   ],
   "metadata": {
    "collapsed": false,
    "pycharm": {
     "name": "#%%\n"
    }
   }
  },
  {
   "cell_type": "code",
   "execution_count": null,
   "outputs": [],
   "source": [
    " # Plot the signal\n",
    "fig, ax = plt.subplots(1, 1, figsize=(12, 4))\n",
    "plt.plot(time, data, lw=1.5, color='k')\n",
    "plt.xlabel('Time (seconds)')\n",
    "plt.ylabel('Voltage')\n",
    "plt.xlim([time.min(), time.max()])\n",
    "plt.title('N3 sleep EEG data (F3)')\n",
    "plt.show()"
   ],
   "metadata": {
    "collapsed": false,
    "pycharm": {
     "name": "#%%\n"
    }
   }
  },
  {
   "cell_type": "code",
   "execution_count": null,
   "outputs": [],
   "source": [
    "from scipy.signal import welch\n",
    "\n",
    "nperseg = 250/2\n",
    "noverlap = None # nperseg // 2\n",
    "freqs, psd = welch(data, sf, nperseg=nperseg, noverlap=noverlap)  # win = Hann  \n",
    "\n",
    "print(freqs)\n",
    "print(psd)\n",
    "\n"
   ],
   "metadata": {
    "collapsed": false,
    "pycharm": {
     "name": "#%%\n"
    }
   }
  },
  {
   "cell_type": "code",
   "execution_count": null,
   "outputs": [],
   "source": [
    "plt.figure(figsize=(8, 4))\n",
    "plt.plot(freqs, psd, color='k', lw=2)\n",
    "plt.xlabel('Frequency (Hz)')\n",
    "plt.ylabel('Power spectral density (V^2 / Hz)')\n",
    "plt.ylim([0, psd.max() * 1.1])\n",
    "plt.title(\"Welch's periodogram\")\n",
    "plt.xlim([0, freqs.max()])\n",
    "plt.show()"
   ],
   "metadata": {
    "collapsed": false,
    "pycharm": {
     "name": "#%%\n"
    }
   }
  },
  {
   "cell_type": "code",
   "execution_count": null,
   "outputs": [],
   "source": [
    "for low, high in [(1, 4), (4, 8), (8, 10), (10, 13), (13, 30),\n",
    "                  (30, 70)]:\n",
    "    # Find intersecting values in frequency vector\n",
    "    idx_delta = np.logical_and(freqs >= low, freqs <= high)\n",
    "    print(\"logical map for bands ({},{}):\\n {}\".format(low, high, idx_delta))\n",
    "\n",
    "    plt.figure(figsize=(7, 4))\n",
    "    plt.plot(freqs, psd, lw=2, color='k')\n",
    "    plt.fill_between(freqs, psd, where=idx_delta, color='skyblue')\n",
    "    plt.xlabel('Frequency (Hz)')\n",
    "    plt.ylabel('Power spectral density (uV^2 / Hz)')\n",
    "    plt.xlim([0, 70])\n",
    "    plt.ylim([0, psd.max() * 1.1])\n",
    "    plt.title(\"Welch's periodogram\")\n",
    "    plt.show()\n"
   ],
   "metadata": {
    "collapsed": false,
    "pycharm": {
     "name": "#%%\n"
    }
   }
  },
  {
   "cell_type": "code",
   "execution_count": null,
   "outputs": [],
   "source": [
    "from scipy.integrate import simps\n",
    "for low, high in [(1, 4), (4, 8), (8, 10), (10, 13), (13, 30),\n",
    "                  (30, 70)]:\n",
    "    print(\"processing bands (low, high) : ({},{})\".format(low, high))\n",
    "    # Find intersecting values in frequency vector\n",
    "    idx_delta = np.logical_and(freqs >= low, freqs <= high)\n",
    "      # Frequency resolution\n",
    "    freq_res = freqs[1] - freqs[0]  # = 1 / 4 = 0.25\n",
    "\n",
    "    # Compute the absolute power by approximating the area under the curve\n",
    "    power = simps(psd[idx_delta], dx=freq_res)\n",
    "    print('Absolute power: {:.4f} uV^2'.format(power))\n",
    "    \n",
    "    total_power = simps(psd, dx=freq_res)\n",
    "    rel_power = power / total_power\n",
    "    \n",
    "    print('Relative power: {:.4f}'.format(rel_power))\n",
    "    \n",
    "    "
   ],
   "metadata": {
    "collapsed": false,
    "pycharm": {
     "name": "#%%\n"
    }
   }
  },
  {
   "cell_type": "code",
   "execution_count": null,
   "outputs": [],
   "source": [
    "def bandpower_1d(data, sf, band, nperseg=250, relative=False):\n",
    "    \"\"\"\n",
    "        Compute the average power of the signal x in a specific frequency band.\n",
    "        https://raphaelvallat.com/bandpower.html\n",
    "    Args:\n",
    "        data (1d-array):\n",
    "            Input signal in the time-domain.\n",
    "        sf (float):\n",
    "            Sampling frequency of the data.\n",
    "        band (list):\n",
    "            Lower and upper frequencies of the band of interest.\n",
    "        window_sec (float):\n",
    "            Length of each window in seconds.\n",
    "            If None, window_sec = (1 / min(band)) * 2\n",
    "        relative (boolean):\n",
    "            If True, return the relative power (= divided by the total power of the signal).\n",
    "            If False (default), return the absolute power.\n",
    "\n",
    "    Returns:\n",
    "        bp (float):\n",
    "            Absolute or relative band power.\n",
    "    \"\"\"\n",
    "\n",
    "    # band = np.asarray(band)\n",
    "    low, high = band\n",
    "\n",
    "    # Compute the modified periodogram (Welch)\n",
    "    freqs, psd = welch(data, sf, nperseg=nperseg)\n",
    "\n",
    "    # Frequency resolution\n",
    "    freq_res = freqs[1] - freqs[0]\n",
    "\n",
    "    # Find closest indices of band in frequency vector\n",
    "    idx_band = np.logical_and(freqs >= low, freqs <= high)\n",
    "\n",
    "    # Integral approximation of the spectrum using Simpson's rule.\n",
    "    bp = simps(psd[idx_band], dx=freq_res)\n",
    "\n",
    "    if relative:\n",
    "        bp /= simps(psd, dx=freq_res)\n",
    "    return bp\n",
    "\n",
    "\n",
    "# def bandpower(x, fs, bands, window_sec=None, relative=True):\n",
    "#         # x shape [n_epoch, n_ channle, n_times]\n",
    "#         # bandpower [n_epoch, n_channel, 1]\n",
    "#         n_epoch, n_channel, _ = x.shape\n",
    "#         bp = np.zeros((n_epoch, n_channel, 1))\n",
    "#         for idx, b in enumerate(bands):\n",
    "#             print(b)\n",
    "#             print(idx)\n",
    "#             for epoch in range(n_epoch):\n",
    "#                 for channel in range(n_channel):\n",
    "#                     bp[epoch, channel] = bandpower_1d(x[epoch, channel, idx], fs, [fmax, fmin],\n",
    "#                                                         window_sec=window_sec, relative=relative)\n",
    "#\n",
    "#         return bp\n",
    "\n",
    "\n",
    "def bandpower(x, fs, fmin, fmax, nperseg=250, relative=True):\n",
    "    \"\"\"\n",
    "    Compute the average power of the multi-channel signal x in a specific frequency band.\n",
    "    Args:\n",
    "        x (nd-array): [n_epoch, n_channel, n_times]\n",
    "           The epoched input data.\n",
    "        fs (float):\n",
    "            Sampling frequency of the data.\n",
    "        fmin (int): Low-band frequency.\n",
    "        fmax (int): High-band frequency.\n",
    "        window_sec (float):\n",
    "            Length of each window in seconds.\n",
    "            If None, window_sec = (1 / min(band)) * 2\n",
    "        relative (boolean):\n",
    "            If True, return the relative power (= divided by the total power of the signal).\n",
    "            If False (default), return the absolute power.\n",
    "\n",
    "    Returns:\n",
    "        bp (nd-array): [n_epoch, n_channel, 1]\n",
    "            Absolute or relative band power.\n",
    "    \"\"\"\n",
    "    n_epoch, n_channel, _ = x.shape\n",
    "\n",
    "    bp = np.zeros((n_epoch, n_channel, 1))\n",
    "    for epoch in range(n_epoch):\n",
    "        for channel in range(n_channel):\n",
    "            bp[epoch, channel] = bandpower_1d(\n",
    "                x[epoch, channel, :],\n",
    "                fs,\n",
    "                [fmin, fmax],\n",
    "                nperseg=nperseg,\n",
    "                relative=relative,\n",
    "            )\n",
    "\n",
    "    return bp\n",
    "\n",
    "\n",
    "def bandpower_multi(x, fs, bands,  nperseg=250, relative=True):\n",
    "    \"\"\"\n",
    "    Compute the average power of the multi-channel signal x in multiple frequency bands.\n",
    "    Args:\n",
    "        x (nd-array): [n_epoch, n_channel, n_times]\n",
    "           The epoched input data.\n",
    "        fs (float):\n",
    "            Sampling frequency of the data.\n",
    "        bands (list): list of bands to compute the bandpower. echa band is a tuple of fmin and fmax.\n",
    "        window_sec (float):\n",
    "            Length of each window in seconds.\n",
    "            If None, window_sec = (1 / min(band)) * 2\n",
    "        relative (boolean):\n",
    "            If True, return the relative power (= divided by the total power of the signal).\n",
    "            If False (default), return the absolute power.\n",
    "\n",
    "    Returns:\n",
    "        bp (nd-array): [n_epoch, n_channel, n_bands]\n",
    "            Absolute or relative bands power.\n",
    "    \"\"\"\n",
    "    n_epoch, n_channel, _ = x.shape\n",
    "    bp_list = []\n",
    "    for idx, band in enumerate(bands):\n",
    "        fmin, fmax = band\n",
    "        bp_list.append(\n",
    "            bandpower(\n",
    "                x, fs, fmin, fmax,  nperseg=nperseg, relative=relative\n",
    "            )\n",
    "        )\n",
    "\n",
    "    bp = np.concatenate(bp_list, -1)\n",
    "\n",
    "    return bp\n"
   ],
   "metadata": {
    "collapsed": false,
    "pycharm": {
     "name": "#%%\n"
    }
   }
  },
  {
   "cell_type": "code",
   "execution_count": null,
   "outputs": [],
   "source": [
    "### all channels for 1 epoch\n",
    "fs = 250\n",
    "nperseg = 250/2\n",
    "data = X[1000, :, :].squeeze()\n",
    "print(data.shape)\n",
    "data = np.expand_dims(data, 0)\n",
    "bands = [(1, 4), (4, 8), (8, 10), (10, 13), (13, 30), (30, 70)]\n",
    "bp = bandpower_multi(data, fs, bands,  nperseg=nperseg, relative=True).squeeze()\n",
    "print(bp.shape)"
   ],
   "metadata": {
    "collapsed": false,
    "pycharm": {
     "name": "#%%\n"
    }
   }
  },
  {
   "cell_type": "code",
   "execution_count": null,
   "outputs": [],
   "source": [
    "fig = plt.figure(figsize=[10, 4])\n",
    "cmap = \"RdBu_r\"\n",
    "im = plt.pcolormesh(bp, cmap=cmap)\n",
    "fig.colorbar(im)\n",
    "plt.title(\"RPS\")\n",
    "plt.ylabel(\"Channels\")\n",
    "plt.xlabel(\"Bands\")\n",
    "plt.locator_params(axis=\"y\", nbins=5)\n",
    "plt.xticks(\n",
    "    [0.5, 1.5, 2.5, 3.5, 4.5, 5.5],\n",
    "    [\"delta\", \"tetha\", \"low-alpha\", \"high-alpha\", \"beta\", \"low-gamma\"],\n",
    ")\n",
    "plt.show()"
   ],
   "metadata": {
    "collapsed": false,
    "pycharm": {
     "name": "#%%\n"
    }
   }
  },
  {
   "cell_type": "code",
   "execution_count": null,
   "outputs": [],
   "source": [],
   "metadata": {
    "collapsed": false,
    "pycharm": {
     "name": "#%%\n"
    }
   }
  },
  {
   "cell_type": "code",
   "execution_count": null,
   "outputs": [],
   "source": [],
   "metadata": {
    "collapsed": false,
    "pycharm": {
     "name": "#%%\n"
    }
   }
  }
 ],
 "metadata": {
  "kernelspec": {
   "display_name": "Python 3",
   "language": "python",
   "name": "python3"
  },
  "language_info": {
   "codemirror_mode": {
    "name": "ipython",
    "version": 3
   },
   "file_extension": ".py",
   "mimetype": "text/x-python",
   "name": "python",
   "nbconvert_exporter": "python",
   "pygments_lexer": "ipython3",
   "version": "3.7.7"
  }
 },
 "nbformat": 4,
 "nbformat_minor": 1
}