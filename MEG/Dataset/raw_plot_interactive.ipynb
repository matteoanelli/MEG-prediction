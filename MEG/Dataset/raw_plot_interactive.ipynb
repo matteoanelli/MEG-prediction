{
 "cells": [
  {
   "cell_type": "code",
   "execution_count": 1,
   "metadata": {},
   "outputs": [],
   "source": [
    "#!/usr/bin/env python\n",
    "import os\n",
    "import mne\n",
    "import argparse\n",
    "\n",
    "import numpy as np\n",
    "import matplotlib.pyplot as plt\n",
    "from mne.viz import iter_topography\n",
    "from mne.time_frequency import psd_welch\n",
    "%matplotlib qt"
   ]
  },
  {
   "cell_type": "code",
   "execution_count": 2,
   "metadata": {
    "pycharm": {
     "name": "#%%\n"
    }
   },
   "outputs": [],
   "source": [
    " # Directories\n",
    "data_dir = 'Z:\\Desktop\\\\'\n",
    "sub = 1"
   ]
  },
  {
   "cell_type": "code",
   "execution_count": 3,
   "metadata": {
    "pycharm": {
     "name": "#%%\n"
    }
   },
   "outputs": [
    {
     "name": "stderr",
     "output_type": "stream",
     "text": [
      "<ipython-input-3-38e184257d10>:9: RuntimeWarning: This filename (Z:\\Desktop\\sub1/ball01_sss_trans.fif) does not conform to MNE naming conventions. All raw files should end with raw.fif, raw_sss.fif, raw_tsss.fif, raw.fif.gz, raw_sss.fif.gz, raw_tsss.fif.gz or _meg.fif\n",
      "  raw = mne.io.Raw(fname, preload=True).crop(tmax=180)\n"
     ]
    },
    {
     "name": "stdout",
     "output_type": "stream",
     "text": [
      "<Info | 23 non-empty values\n",
      " acq_pars: ACQch001 110113 ACQch002 110112 ACQch003 110111 ACQch004 110122 ...\n",
      " bads: []\n",
      " ch_names: MEG0113, MEG0112, MEG0111, MEG0122, MEG0123, MEG0121, MEG0132, ...\n",
      " chs: 204 GRAD, 102 MAG, 12 MISC, 3 STIM\n",
      " custom_ref_applied: False\n",
      " description: Vectorview system\n",
      " dev_head_t: MEG device -> head transform\n",
      " dig: 8 items (3 Cardinal, 5 HPI)\n",
      " events: 1 item (list)\n",
      " experimenter: temporary training acct (meg1)\n",
      " file_id: 4 items (dict)\n",
      " highpass: 0.1 Hz\n",
      " hpi_meas: 1 item (list)\n",
      " hpi_results: 1 item (list)\n",
      " hpi_subsystem: 2 items (dict)\n",
      " line_freq: 50.0\n",
      " lowpass: 330.0 Hz\n",
      " meas_date: 2019-09-13 15:05:34 UTC\n",
      " meas_id: 4 items (dict)\n",
      " nchan: 321\n",
      " proc_history: 1 item (list)\n",
      " proj_id: 1 item (ndarray)\n",
      " proj_name: neurofeedback\n",
      " projs: []\n",
      " sfreq: 1000.0 Hz\n",
      " subject_info: 8 items (dict)\n",
      ">\n"
     ]
    },
    {
     "name": "stderr",
     "output_type": "stream",
     "text": [
      "<ipython-input-3-38e184257d10>:9: RuntimeWarning: This filename (Z:\\Desktop\\sub1/ball02_sss_trans.fif) does not conform to MNE naming conventions. All raw files should end with raw.fif, raw_sss.fif, raw_tsss.fif, raw.fif.gz, raw_sss.fif.gz, raw_tsss.fif.gz or _meg.fif\n",
      "  raw = mne.io.Raw(fname, preload=True).crop(tmax=180)\n"
     ]
    },
    {
     "name": "stdout",
     "output_type": "stream",
     "text": [
      "<Info | 23 non-empty values\n",
      " acq_pars: ACQch001 110113 ACQch002 110112 ACQch003 110111 ACQch004 110122 ...\n",
      " bads: []\n",
      " ch_names: MEG0113, MEG0112, MEG0111, MEG0122, MEG0123, MEG0121, MEG0132, ...\n",
      " chs: 204 GRAD, 102 MAG, 12 MISC, 3 STIM\n",
      " custom_ref_applied: False\n",
      " description: Vectorview system\n",
      " dev_head_t: MEG device -> head transform\n",
      " dig: 8 items (3 Cardinal, 5 HPI)\n",
      " events: 1 item (list)\n",
      " experimenter: temporary training acct (meg1)\n",
      " file_id: 4 items (dict)\n",
      " highpass: 0.1 Hz\n",
      " hpi_meas: 1 item (list)\n",
      " hpi_results: 1 item (list)\n",
      " hpi_subsystem: 2 items (dict)\n",
      " line_freq: 50.0\n",
      " lowpass: 330.0 Hz\n",
      " meas_date: 2019-09-13 15:26:53 UTC\n",
      " meas_id: 4 items (dict)\n",
      " nchan: 321\n",
      " proc_history: 1 item (list)\n",
      " proj_id: 1 item (ndarray)\n",
      " proj_name: neurofeedback\n",
      " projs: []\n",
      " sfreq: 1000.0 Hz\n",
      " subject_info: 8 items (dict)\n",
      ">\n"
     ]
    },
    {
     "name": "stderr",
     "output_type": "stream",
     "text": [
      "<ipython-input-3-38e184257d10>:9: RuntimeWarning: This filename (Z:\\Desktop\\sub1/ball03_sss_trans.fif) does not conform to MNE naming conventions. All raw files should end with raw.fif, raw_sss.fif, raw_tsss.fif, raw.fif.gz, raw_sss.fif.gz, raw_tsss.fif.gz or _meg.fif\n",
      "  raw = mne.io.Raw(fname, preload=True).crop(tmax=180)\n"
     ]
    },
    {
     "name": "stdout",
     "output_type": "stream",
     "text": [
      "<Info | 23 non-empty values\n",
      " acq_pars: ACQch001 110113 ACQch002 110112 ACQch003 110111 ACQch004 110122 ...\n",
      " bads: []\n",
      " ch_names: MEG0113, MEG0112, MEG0111, MEG0122, MEG0123, MEG0121, MEG0132, ...\n",
      " chs: 204 GRAD, 102 MAG, 12 MISC, 3 STIM\n",
      " custom_ref_applied: False\n",
      " description: Vectorview system\n",
      " dev_head_t: MEG device -> head transform\n",
      " dig: 8 items (3 Cardinal, 5 HPI)\n",
      " events: 1 item (list)\n",
      " experimenter: temporary training acct (meg1)\n",
      " file_id: 4 items (dict)\n",
      " highpass: 0.1 Hz\n",
      " hpi_meas: 1 item (list)\n",
      " hpi_results: 1 item (list)\n",
      " hpi_subsystem: 2 items (dict)\n",
      " line_freq: 50.0\n",
      " lowpass: 330.0 Hz\n",
      " meas_date: 2019-09-13 15:42:02 UTC\n",
      " meas_id: 4 items (dict)\n",
      " nchan: 321\n",
      " proc_history: 1 item (list)\n",
      " proj_id: 1 item (ndarray)\n",
      " proj_name: neurofeedback\n",
      " projs: []\n",
      " sfreq: 1000.0 Hz\n",
      " subject_info: 8 items (dict)\n",
      ">\n"
     ]
    }
   ],
   "source": [
    "subj_id = \"sub\" + str(sub) + \"/ball0\"\n",
    "\n",
    "raw_fnames = [\"\".join([data_dir, subj_id, str(i), \"_sss_trans.fif\"])\n",
    "              for i in range(1, 4)]\n",
    "\n",
    "raws = []\n",
    "for fname in raw_fnames:\n",
    "    if os.path.isfile(fname):\n",
    "        raw = mne.io.Raw(fname, preload=True).crop(tmax=180)\n",
    "        print(raw.info)\n",
    "        events = mne.find_events(\n",
    "            raw, stim_channel=\"STI101\", min_duration=0.003\n",
    "        )\n",
    "        raw.pick_types(meg=\"grad\", misc=False)\n",
    "        raw.notch_filter(50, notch_widths=2)\n",
    "        raw.filter(l_freq=1.0, h_freq=70)\n",
    "\n",
    "        raws.append(raw)\n",
    "        del raw\n",
    "    else:\n",
    "        print(fname, \"***NOT FOUND\")\n",
    "\n",
    "raw = mne.concatenate_raws(raws)"
   ]
  },
  {
   "cell_type": "code",
   "execution_count": 4,
   "metadata": {
    "pycharm": {
     "name": "#%%\n"
    }
   },
   "outputs": [],
   "source": [
    "raw.plot(start=0., duration=20., n_channels=20, events=events)\n",
    "plt.show()"
   ]
  },
  {
   "cell_type": "code",
   "execution_count": 5,
   "metadata": {
    "pycharm": {
     "name": "#%%\n"
    }
   },
   "outputs": [],
   "source": [
    "psds, freqs = mne.time_frequency.psd_welch(raw, n_per_seg=250,\n",
    "                                           n_overlap=250 / 2,\n",
    "                                           average='mean', fmin=1.0,\n",
    "                                           fmax=70)\n",
    "psds = 20 * np.log10(psds)  # scale to DB"
   ]
  },
  {
   "cell_type": "code",
   "execution_count": 7,
   "metadata": {
    "pycharm": {
     "name": "#%%\n"
    }
   },
   "outputs": [
    {
     "name": "stdout",
     "output_type": "stream",
     "text": [
      "name 'ch_idz' is not defined\n"
     ]
    },
    {
     "name": "stderr",
     "output_type": "stream",
     "text": [
      "Traceback (most recent call last):\n",
      "  File \"c:\\users\\anellim1\\develop\\thesis\\mnematte\\.venv\\lib\\site-packages\\matplotlib\\cbook\\__init__.py\", line 196, in process\n",
      "    func(*args, **kwargs)\n",
      "  File \"c:\\users\\anellim1\\develop\\thesis\\mnematte\\.venv\\lib\\site-packages\\mne\\viz\\topo.py\", line 277, in _plot_topo_onpick\n",
      "    show_func(ax, ch_idx)\n",
      "  File \"<ipython-input-7-3e1563fc0b3a>\", line 11, in my_callback\n",
      "    ax.set(title=ch_idz)\n",
      "NameError: name 'ch_idz' is not defined\n"
     ]
    },
    {
     "name": "stdout",
     "output_type": "stream",
     "text": [
      "name 'ch_idz' is not defined\n"
     ]
    },
    {
     "name": "stderr",
     "output_type": "stream",
     "text": [
      "Traceback (most recent call last):\n",
      "  File \"c:\\users\\anellim1\\develop\\thesis\\mnematte\\.venv\\lib\\site-packages\\matplotlib\\cbook\\__init__.py\", line 196, in process\n",
      "    func(*args, **kwargs)\n",
      "  File \"c:\\users\\anellim1\\develop\\thesis\\mnematte\\.venv\\lib\\site-packages\\mne\\viz\\topo.py\", line 277, in _plot_topo_onpick\n",
      "    show_func(ax, ch_idx)\n",
      "  File \"<ipython-input-7-3e1563fc0b3a>\", line 11, in my_callback\n",
      "    ax.set(title=ch_idz)\n",
      "NameError: name 'ch_idz' is not defined\n"
     ]
    },
    {
     "name": "stdout",
     "output_type": "stream",
     "text": [
      "name 'ch_idz' is not defined\n"
     ]
    },
    {
     "name": "stderr",
     "output_type": "stream",
     "text": [
      "Traceback (most recent call last):\n",
      "  File \"c:\\users\\anellim1\\develop\\thesis\\mnematte\\.venv\\lib\\site-packages\\matplotlib\\cbook\\__init__.py\", line 196, in process\n",
      "    func(*args, **kwargs)\n",
      "  File \"c:\\users\\anellim1\\develop\\thesis\\mnematte\\.venv\\lib\\site-packages\\mne\\viz\\topo.py\", line 277, in _plot_topo_onpick\n",
      "    show_func(ax, ch_idx)\n",
      "  File \"<ipython-input-7-3e1563fc0b3a>\", line 11, in my_callback\n",
      "    ax.set(title=ch_idz)\n",
      "NameError: name 'ch_idz' is not defined\n"
     ]
    },
    {
     "name": "stdout",
     "output_type": "stream",
     "text": [
      "name 'ch_idz' is not defined\n"
     ]
    },
    {
     "name": "stderr",
     "output_type": "stream",
     "text": [
      "Traceback (most recent call last):\n",
      "  File \"c:\\users\\anellim1\\develop\\thesis\\mnematte\\.venv\\lib\\site-packages\\matplotlib\\cbook\\__init__.py\", line 196, in process\n",
      "    func(*args, **kwargs)\n",
      "  File \"c:\\users\\anellim1\\develop\\thesis\\mnematte\\.venv\\lib\\site-packages\\mne\\viz\\topo.py\", line 277, in _plot_topo_onpick\n",
      "    show_func(ax, ch_idx)\n",
      "  File \"<ipython-input-7-3e1563fc0b3a>\", line 11, in my_callback\n",
      "    ax.set(title=ch_idz)\n",
      "NameError: name 'ch_idz' is not defined\n"
     ]
    },
    {
     "name": "stdout",
     "output_type": "stream",
     "text": [
      "name 'ch_idz' is not defined\n"
     ]
    },
    {
     "name": "stderr",
     "output_type": "stream",
     "text": [
      "Traceback (most recent call last):\n",
      "  File \"c:\\users\\anellim1\\develop\\thesis\\mnematte\\.venv\\lib\\site-packages\\matplotlib\\cbook\\__init__.py\", line 196, in process\n",
      "    func(*args, **kwargs)\n",
      "  File \"c:\\users\\anellim1\\develop\\thesis\\mnematte\\.venv\\lib\\site-packages\\mne\\viz\\topo.py\", line 277, in _plot_topo_onpick\n",
      "    show_func(ax, ch_idx)\n",
      "  File \"<ipython-input-7-3e1563fc0b3a>\", line 11, in my_callback\n",
      "    ax.set(title=ch_idz)\n",
      "NameError: name 'ch_idz' is not defined\n"
     ]
    },
    {
     "name": "stdout",
     "output_type": "stream",
     "text": [
      "name 'ch_idz' is not defined\n"
     ]
    },
    {
     "name": "stderr",
     "output_type": "stream",
     "text": [
      "Traceback (most recent call last):\n",
      "  File \"c:\\users\\anellim1\\develop\\thesis\\mnematte\\.venv\\lib\\site-packages\\matplotlib\\cbook\\__init__.py\", line 196, in process\n",
      "    func(*args, **kwargs)\n",
      "  File \"c:\\users\\anellim1\\develop\\thesis\\mnematte\\.venv\\lib\\site-packages\\mne\\viz\\topo.py\", line 277, in _plot_topo_onpick\n",
      "    show_func(ax, ch_idx)\n",
      "  File \"<ipython-input-7-3e1563fc0b3a>\", line 11, in my_callback\n",
      "    ax.set(title=ch_idz)\n",
      "NameError: name 'ch_idz' is not defined\n"
     ]
    },
    {
     "name": "stdout",
     "output_type": "stream",
     "text": [
      "name 'ch_idz' is not defined\n"
     ]
    },
    {
     "name": "stderr",
     "output_type": "stream",
     "text": [
      "Traceback (most recent call last):\n",
      "  File \"c:\\users\\anellim1\\develop\\thesis\\mnematte\\.venv\\lib\\site-packages\\matplotlib\\cbook\\__init__.py\", line 196, in process\n",
      "    func(*args, **kwargs)\n",
      "  File \"c:\\users\\anellim1\\develop\\thesis\\mnematte\\.venv\\lib\\site-packages\\mne\\viz\\topo.py\", line 277, in _plot_topo_onpick\n",
      "    show_func(ax, ch_idx)\n",
      "  File \"<ipython-input-7-3e1563fc0b3a>\", line 11, in my_callback\n",
      "    ax.set(title=ch_idz)\n",
      "NameError: name 'ch_idz' is not defined\n"
     ]
    },
    {
     "name": "stdout",
     "output_type": "stream",
     "text": [
      "name 'ch_idz' is not defined\n"
     ]
    },
    {
     "name": "stderr",
     "output_type": "stream",
     "text": [
      "Traceback (most recent call last):\n",
      "  File \"c:\\users\\anellim1\\develop\\thesis\\mnematte\\.venv\\lib\\site-packages\\matplotlib\\cbook\\__init__.py\", line 196, in process\n",
      "    func(*args, **kwargs)\n",
      "  File \"c:\\users\\anellim1\\develop\\thesis\\mnematte\\.venv\\lib\\site-packages\\mne\\viz\\topo.py\", line 277, in _plot_topo_onpick\n",
      "    show_func(ax, ch_idx)\n",
      "  File \"<ipython-input-7-3e1563fc0b3a>\", line 11, in my_callback\n",
      "    ax.set(title=ch_idz)\n",
      "NameError: name 'ch_idz' is not defined\n"
     ]
    },
    {
     "name": "stdout",
     "output_type": "stream",
     "text": [
      "name 'ch_idz' is not defined\n"
     ]
    },
    {
     "name": "stderr",
     "output_type": "stream",
     "text": [
      "Traceback (most recent call last):\n",
      "  File \"c:\\users\\anellim1\\develop\\thesis\\mnematte\\.venv\\lib\\site-packages\\matplotlib\\cbook\\__init__.py\", line 196, in process\n",
      "    func(*args, **kwargs)\n",
      "  File \"c:\\users\\anellim1\\develop\\thesis\\mnematte\\.venv\\lib\\site-packages\\mne\\viz\\topo.py\", line 277, in _plot_topo_onpick\n",
      "    show_func(ax, ch_idx)\n",
      "  File \"<ipython-input-7-3e1563fc0b3a>\", line 11, in my_callback\n",
      "    ax.set(title=ch_idz)\n",
      "NameError: name 'ch_idz' is not defined\n"
     ]
    },
    {
     "name": "stdout",
     "output_type": "stream",
     "text": [
      "name 'ch_idz' is not defined\n"
     ]
    },
    {
     "name": "stderr",
     "output_type": "stream",
     "text": [
      "Traceback (most recent call last):\n",
      "  File \"c:\\users\\anellim1\\develop\\thesis\\mnematte\\.venv\\lib\\site-packages\\matplotlib\\cbook\\__init__.py\", line 196, in process\n",
      "    func(*args, **kwargs)\n",
      "  File \"c:\\users\\anellim1\\develop\\thesis\\mnematte\\.venv\\lib\\site-packages\\mne\\viz\\topo.py\", line 277, in _plot_topo_onpick\n",
      "    show_func(ax, ch_idx)\n",
      "  File \"<ipython-input-7-3e1563fc0b3a>\", line 11, in my_callback\n",
      "    ax.set(title=ch_idz)\n",
      "NameError: name 'ch_idz' is not defined\n"
     ]
    },
    {
     "name": "stdout",
     "output_type": "stream",
     "text": [
      "name 'ch_idz' is not defined\n"
     ]
    },
    {
     "name": "stderr",
     "output_type": "stream",
     "text": [
      "Traceback (most recent call last):\n",
      "  File \"c:\\users\\anellim1\\develop\\thesis\\mnematte\\.venv\\lib\\site-packages\\matplotlib\\cbook\\__init__.py\", line 196, in process\n",
      "    func(*args, **kwargs)\n",
      "  File \"c:\\users\\anellim1\\develop\\thesis\\mnematte\\.venv\\lib\\site-packages\\mne\\viz\\topo.py\", line 277, in _plot_topo_onpick\n",
      "    show_func(ax, ch_idx)\n",
      "  File \"<ipython-input-7-3e1563fc0b3a>\", line 11, in my_callback\n",
      "    ax.set(title=ch_idz)\n",
      "NameError: name 'ch_idz' is not defined\n"
     ]
    },
    {
     "name": "stdout",
     "output_type": "stream",
     "text": [
      "name 'ch_idz' is not defined\n"
     ]
    },
    {
     "name": "stderr",
     "output_type": "stream",
     "text": [
      "Traceback (most recent call last):\n",
      "  File \"c:\\users\\anellim1\\develop\\thesis\\mnematte\\.venv\\lib\\site-packages\\matplotlib\\cbook\\__init__.py\", line 196, in process\n",
      "    func(*args, **kwargs)\n",
      "  File \"c:\\users\\anellim1\\develop\\thesis\\mnematte\\.venv\\lib\\site-packages\\mne\\viz\\topo.py\", line 277, in _plot_topo_onpick\n",
      "    show_func(ax, ch_idx)\n",
      "  File \"<ipython-input-7-3e1563fc0b3a>\", line 11, in my_callback\n",
      "    ax.set(title=ch_idz)\n",
      "NameError: name 'ch_idz' is not defined\n"
     ]
    },
    {
     "name": "stdout",
     "output_type": "stream",
     "text": [
      "name 'ch_idz' is not defined\n"
     ]
    },
    {
     "name": "stderr",
     "output_type": "stream",
     "text": [
      "Traceback (most recent call last):\n",
      "  File \"c:\\users\\anellim1\\develop\\thesis\\mnematte\\.venv\\lib\\site-packages\\matplotlib\\cbook\\__init__.py\", line 196, in process\n",
      "    func(*args, **kwargs)\n",
      "  File \"c:\\users\\anellim1\\develop\\thesis\\mnematte\\.venv\\lib\\site-packages\\mne\\viz\\topo.py\", line 277, in _plot_topo_onpick\n",
      "    show_func(ax, ch_idx)\n",
      "  File \"<ipython-input-7-3e1563fc0b3a>\", line 11, in my_callback\n",
      "    ax.set(title=ch_idz)\n",
      "NameError: name 'ch_idz' is not defined\n"
     ]
    }
   ],
   "source": [
    "def my_callback(ax, ch_idx):\n",
    "    \"\"\"\n",
    "    This block of code is executed once you click on one of the channel axes\n",
    "    in the plot. To work with the viz internals, this function should only take\n",
    "    two parameters, the axis and the channel or data index.\n",
    "    \"\"\"\n",
    "\n",
    "    ax.plot(freqs, psds[ch_idx], color='red')\n",
    "    ax.set_xlabel('Frequency (Hz)')\n",
    "    ax.set_ylabel('Power (dB)')\n",
    "    ax.set(title=ch_idx)\n",
    "\n",
    "fig = plt.figure(figsize=(12, 8))\n",
    "for ax, idx in iter_topography(raw.info,\n",
    "                               fig_facecolor='white',\n",
    "                               axis_facecolor='white',\n",
    "                               axis_spinecolor='white',\n",
    "                               on_pick=my_callback,\n",
    "                               fig=fig):\n",
    "    ax.plot(psds[idx], color='red')\n",
    "    ax.set_title(str(idx))\n",
    "\n",
    "plt.gcf().suptitle('Power spectral densities')\n",
    "mne.viz.tight_layout()\n",
    "plt.show()\n",
    "\n",
    "\n",
    "\n"
   ]
  },
  {
   "cell_type": "code",
   "execution_count": null,
   "metadata": {},
   "outputs": [],
   "source": []
  },
  {
   "cell_type": "code",
   "execution_count": null,
   "metadata": {},
   "outputs": [],
   "source": []
  }
 ],
 "metadata": {
  "kernelspec": {
   "display_name": "Python 3",
   "language": "python",
   "name": "python3"
  },
  "language_info": {
   "codemirror_mode": {
    "name": "ipython",
    "version": 3
   },
   "file_extension": ".py",
   "mimetype": "text/x-python",
   "name": "python",
   "nbconvert_exporter": "python",
   "pygments_lexer": "ipython3",
   "version": "3.7.7"
  }
 },
 "nbformat": 4,
 "nbformat_minor": 1
}