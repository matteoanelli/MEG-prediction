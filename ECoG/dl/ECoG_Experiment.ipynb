{
 "cells": [
  {
   "cell_type": "markdown",
   "metadata": {
    "collapsed": true,
    "pycharm": {
     "name": "#%% md\n"
    }
   },
   "source": [
    "# Notebook to train the deep learning model on the ECoG dataset"
   ]
  },
  {
   "cell_type": "code",
   "execution_count": 1,
   "outputs": [],
   "source": [
    "from DL_utils import *\n",
    "from Dataset import ECoG_Dataset\n",
    "from torch.utils.data import DataLoader\n",
    "from tests import *\n",
    "from Models import LeNet5\n",
    "from torch.optim.adam import Adam\n",
    "from tqdm import tqdm\n",
    "import matplotlib.pyplot as plt\n",
    "\n",
    "from sklearn.metrics import mean_squared_error, mean_absolute_error"
   ],
   "metadata": {
    "collapsed": false,
    "pycharm": {
     "name": "#%%\n"
    }
   }
  },
  {
   "cell_type": "markdown",
   "source": [
    "Set the data directory, sampling rate and additional required folder"
   ],
   "metadata": {
    "collapsed": false,
    "pycharm": {
     "name": "#%% md\n"
    }
   }
  },
  {
   "cell_type": "code",
   "execution_count": 2,
   "outputs": [],
   "source": [
    "data_dir = 'C:\\\\Users\\\\anellim1\\Develop\\Thesis\\BCICIV_4_mat\\\\'\n",
    "file_name = 'sub1_comp.mat'\n",
    "sampling_rate = 1000\n",
    "\n",
    "figure_path = '..\\Figures'\n",
    "model_path = '..\\Models'"
   ],
   "metadata": {
    "collapsed": false,
    "pycharm": {
     "name": "#%%\n"
    }
   }
  },
  {
   "cell_type": "code",
   "execution_count": 3,
   "outputs": [],
   "source": [
    "# Set skip_training to False if the model has to be trained, to True if the model has to be loaded.\n",
    "skip_training = True"
   ],
   "metadata": {
    "collapsed": false,
    "pycharm": {
     "name": "#%%\n"
    }
   }
  },
  {
   "cell_type": "code",
   "execution_count": 4,
   "outputs": [
    {
     "name": "stdout",
     "output_type": "stream",
     "text": [
      "Device = cpu\n"
     ]
    }
   ],
   "source": [
    "# Set the torch device\n",
    "device = torch.device(\"cuda:0\" if torch.cuda.is_available() else \"cpu\")\n",
    "print('Device = {}'.format(device))"
   ],
   "metadata": {
    "collapsed": false,
    "pycharm": {
     "name": "#%%\n"
    }
   }
  },
  {
   "cell_type": "markdown",
   "source": [
    "Initialize the datasets."
   ],
   "metadata": {
    "collapsed": false,
    "pycharm": {
     "name": "#%% md\n"
    }
   }
  },
  {
   "cell_type": "code",
   "execution_count": 5,
   "outputs": [
    {
     "name": "stdout",
     "output_type": "stream",
     "text": [
      "The input data are of shape: torch.Size([800, 62, 500]), the corresponding y shape (filtered to 1 finger) is: torch.Size([800])\n",
      "The input data are of shape: torch.Size([800, 62, 500]), the corresponding y shape (filtered to 1 finger) is: torch.Size([800])\n",
      "Trainset dim: 480, Testset dim: 320\n"
     ]
    }
   ],
   "source": [
    "trainset = ECoG_Dataset(data_dir, file_name, True, 0, 0.5, 1000)\n",
    "testset = ECoG_Dataset(data_dir, file_name, False, 0, 0.5, 1000)\n",
    "\n",
    "print('Trainset dim: {}, Testset dim: {}'.format(trainset.__len__(), testset.__len__()))"
   ],
   "metadata": {
    "collapsed": false,
    "pycharm": {
     "name": "#%%\n"
    }
   }
  },
  {
   "cell_type": "markdown",
   "source": [
    "Initialize the dataloaders."
   ],
   "metadata": {
    "collapsed": false,
    "pycharm": {
     "name": "#%% md\n"
    }
   }
  },
  {
   "cell_type": "code",
   "execution_count": 6,
   "outputs": [],
   "source": [
    "trainloader = DataLoader(trainset, batch_size=50, shuffle=False, num_workers=1)\n",
    "testloader = DataLoader(trainset, batch_size=5, shuffle=False, num_workers=1)"
   ],
   "metadata": {
    "collapsed": false,
    "pycharm": {
     "name": "#%%\n"
    }
   }
  },
  {
   "cell_type": "code",
   "execution_count": 7,
   "outputs": [
    {
     "ename": "NameError",
     "evalue": "name 'test_LeNet5_shape' is not defined",
     "output_type": "error",
     "traceback": [
      "\u001B[1;31m---------------------------------------------------------------------------\u001B[0m",
      "\u001B[1;31mNameError\u001B[0m                                 Traceback (most recent call last)",
      "\u001B[1;32m<ipython-input-7-1bb87b6a569d>\u001B[0m in \u001B[0;36m<module>\u001B[1;34m\u001B[0m\n\u001B[0;32m      1\u001B[0m \u001B[1;31m# Test the network architecture\u001B[0m\u001B[1;33m\u001B[0m\u001B[1;33m\u001B[0m\u001B[1;33m\u001B[0m\u001B[0m\n\u001B[0;32m      2\u001B[0m \u001B[0msample\u001B[0m\u001B[1;33m,\u001B[0m \u001B[0m_\u001B[0m \u001B[1;33m=\u001B[0m \u001B[0miter\u001B[0m\u001B[1;33m(\u001B[0m\u001B[0mtrainloader\u001B[0m\u001B[1;33m)\u001B[0m\u001B[1;33m.\u001B[0m\u001B[0mnext\u001B[0m\u001B[1;33m(\u001B[0m\u001B[1;33m)\u001B[0m\u001B[1;33m\u001B[0m\u001B[1;33m\u001B[0m\u001B[0m\n\u001B[1;32m----> 3\u001B[1;33m \u001B[0mtest_LeNet5_shape\u001B[0m\u001B[1;33m(\u001B[0m\u001B[0msample\u001B[0m\u001B[1;33m,\u001B[0m \u001B[0mdevice\u001B[0m\u001B[1;33m)\u001B[0m\u001B[1;33m\u001B[0m\u001B[1;33m\u001B[0m\u001B[0m\n\u001B[0m\u001B[0;32m      4\u001B[0m \u001B[1;33m\u001B[0m\u001B[0m\n",
      "\u001B[1;31mNameError\u001B[0m: name 'test_LeNet5_shape' is not defined"
     ]
    }
   ],
   "source": [
    "# Test the network architecture\n",
    "sample, _ = iter(trainloader).next()"
   ],
   "metadata": {
    "collapsed": false,
    "pycharm": {
     "name": "#%%\n"
    }
   }
  },
  {
   "cell_type": "markdown",
   "source": [
    "Initialize network and training loop."
   ],
   "metadata": {
    "collapsed": false,
    "pycharm": {
     "name": "#%% md\n"
    }
   }
  },
  {
   "cell_type": "code",
   "execution_count": 8,
   "outputs": [],
   "source": [
    "net = LeNet5()\n",
    "net = net.to(device)"
   ],
   "metadata": {
    "collapsed": false,
    "pycharm": {
     "name": "#%%\n"
    }
   }
  },
  {
   "cell_type": "code",
   "execution_count": 9,
   "outputs": [
    {
     "name": "stdout",
     "output_type": "stream",
     "text": [
      "Model loaded from ..\\Models\\Baselinemodel_lenet5.pth.\n"
     ]
    }
   ],
   "source": [
    "# Training loop or model loading\n",
    "if not skip_training:\n",
    "    print('Begin training...')\n",
    "    EPOCHS = 200\n",
    "    optimizer = Adam(net.parameters(), lr=0.001)\n",
    "    net.train()\n",
    "    loss_function = torch.nn.MSELoss()\n",
    "\n",
    "    for epoch in tqdm(range(1, EPOCHS+1)):\n",
    "        losses = []\n",
    "        for data, labels in trainloader:\n",
    "            # Set data to appropiate device\n",
    "            data, labels = data.to(device), labels.to(device)\n",
    "            # Clear the gradients\n",
    "            optimizer.zero_grad()\n",
    "            # Fit the network\n",
    "            out = net(data)\n",
    "            #Loss function\n",
    "            loss = loss_function(out, labels)\n",
    "            losses.append(loss.item())\n",
    "            # Backpropagation and weights update\n",
    "            loss.backward()\n",
    "            optimizer.step()\n",
    "\n",
    "        print('Epoch: {}/{}. loss = {:.4f}'.format(epoch, EPOCHS, np.mean(losses)))\n",
    "\n",
    "if not skip_training:\n",
    "    # Save the trained model\n",
    "    save_pytorch_model(net, model_path, 'Baselinemodel_lenet5.pth')\n",
    "else:\n",
    "    # Load the model\n",
    "    net = LeNet5()\n",
    "    net = load_pytorch_model(net, os.path.join(model_path,'Baselinemodel_lenet5.pth'), 'cpu')"
   ],
   "metadata": {
    "collapsed": false,
    "pycharm": {
     "name": "#%%\n"
    }
   }
  },
  {
   "cell_type": "markdown",
   "source": [
    "Evaluate the model."
   ],
   "metadata": {
    "collapsed": false,
    "pycharm": {
     "name": "#%% md\n"
    }
   }
  },
  {
   "cell_type": "code",
   "execution_count": 10,
   "outputs": [
    {
     "name": "stdout",
     "output_type": "stream",
     "text": [
      "Evaluation...\n"
     ]
    }
   ],
   "source": [
    "# Evaluation\n",
    "print(\"Evaluation...\")\n",
    "net.eval()\n",
    "y_pred = []\n",
    "y = []\n",
    "with torch.no_grad():\n",
    "    for data, labels in testloader:\n",
    "        y.extend(list(labels))\n",
    "        y_pred.extend((list(net(data))))"
   ],
   "metadata": {
    "collapsed": false,
    "pycharm": {
     "name": "#%%\n"
    }
   }
  },
  {
   "cell_type": "code",
   "execution_count": null,
   "outputs": [],
   "source": [
    "# Calculate Evaluation measures\n",
    "print('mean squared error {}'.format(mean_squared_error(y, y_pred)))\n",
    "print('mean absolute error {}'.format(mean_absolute_error(y, y_pred)))"
   ],
   "metadata": {
    "collapsed": false,
    "pycharm": {
     "name": "#%%\n"
    }
   }
  },
  {
   "cell_type": "code",
   "execution_count": 11,
   "outputs": [
    {
     "data": {
      "text/plain": "<Figure size 720x288 with 1 Axes>",
      "image/png": "[encoded data removed]"
     },
     "metadata": {
      "needs_background": "light"
     },
     "output_type": "display_data"
    }
   ],
   "source": [
    "# plot y_new against the true value\n",
    "fig, ax = plt.subplots(1, 1, figsize=[10, 4])\n",
    "times = np.arange(len(y_pred))\n",
    "ax.plot(times, y_pred, color='b', label='Predicted')\n",
    "ax.plot(times, y, color='r', label='True')\n",
    "ax.set_xlabel('Epoch')\n",
    "ax.set_ylabel('Finger Movement')\n",
    "ax.set_title('SPoC Finger Movement')\n",
    "plt.legend()\n",
    "plt.savefig(os.path.join(figure_path, 'SPoC_Finger_Prediction.pdf'))\n",
    "plt.show()"
   ],
   "metadata": {
    "collapsed": false,
    "pycharm": {
     "name": "#%%\n"
    }
   }
  }
 ],
 "metadata": {
  "kernelspec": {
   "display_name": "Python 3",
   "language": "python",
   "name": "python3"
  },
  "language_info": {
   "codemirror_mode": {
    "name": "ipython",
    "version": 2
   },
   "file_extension": ".py",
   "mimetype": "text/x-python",
   "name": "python",
   "nbconvert_exporter": "python",
   "pygments_lexer": "ipython2",
   "version": "2.7.6"
  }
 },
 "nbformat": 4,
 "nbformat_minor": 0
}