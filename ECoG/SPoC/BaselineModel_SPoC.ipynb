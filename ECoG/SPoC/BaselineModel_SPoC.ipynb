{
 "cells": [
  {
   "cell_type": "markdown",
   "metadata": {
    "collapsed": true,
    "pycharm": {
     "name": "#%% md\n"
    }
   },
   "source": [
    "## First Baseline model experiment using SPoC and epoched data (one subject)\n",
    "\n",
    "This experiment notebook explain the process to generate the first baseline model on the public ECoG dataset.\n",
    "A novel technique called Source Power Comodulation ([SPoC](https://mne.tools/dev/generated/mne.decoding.SPoC.html))\n",
    "implemented in the MNE package  is used together with Ridge regression to predict the continuous output of a single\n",
    "finger movement.\n",
    "\n",
    "The SPoC algorithm has one main parameter, the number of new components it generates. This value has been calculated\n",
    "empirically using cross-validation."
   ]
  },
  {
   "cell_type": "code",
   "execution_count": 1,
   "outputs": [],
   "source": [
    "from utils import *\n",
    "\n",
    "from mne.decoding import SPoC as SPoc\n",
    "from sklearn.pipeline import Pipeline\n",
    "from sklearn.linear_model import Ridge\n",
    "from sklearn.model_selection import KFold, GridSearchCV\n",
    "from sklearn.metrics import mean_squared_error, mean_absolute_error\n",
    "\n",
    "import time\n",
    "\n",
    "import matplotlib.pyplot as plt"
   ],
   "metadata": {
    "collapsed": false,
    "pycharm": {
     "name": "#%%\n"
    }
   }
  },
  {
   "cell_type": "code",
   "execution_count": 2,
   "outputs": [],
   "source": [
    "# Variable that control if the model has to be trained (True) or imported (False).\n",
    "set_train = False"
   ],
   "metadata": {
    "collapsed": false,
    "pycharm": {
     "name": "#%%\n"
    }
   }
  },
  {
   "cell_type": "code",
   "execution_count": 3,
   "outputs": [],
   "source": [
    "# Set the data directory and sampling rate\n",
    "data_dir = 'C:\\\\Users\\\\anellim1\\Develop\\Econ\\BCICIV_4_mat\\\\'\n",
    "file_name = 'sub1_comp.mat'\n",
    "sampling_rate = 1000\n",
    "\n",
    "figure_path = '..\\Figures'\n",
    "model_path = '..\\Models'"
   ],
   "metadata": {
    "collapsed": false,
    "pycharm": {
     "name": "#%%\n"
    }
   }
  },
  {
   "cell_type": "markdown",
   "source": [
    "The first step is to prepare the data in a the correct format. The MNE SPoC algorithm works with epoched data.\n",
    "We filter the Y data in order to focus our analysis only on the thumb. We generate equally timed length epoch with sliding window.\n",
    "Given the regression task and the that the sampling rate was 1000 hz, we decided to use a window duration of 0.5 and a\n",
    "sliding factor of 0.25 such that we have a total number of original time points per epoch equal to 500."
   ],
   "metadata": {
    "collapsed": false
   }
  },
  {
   "cell_type": "code",
   "execution_count": 4,
   "outputs": [
    {
     "name": "stderr",
     "output_type": "stream",
     "text": [
      "No such file 'C:\\Users\\anellim1\\Develop\\Econ\\BCICIV_4_mat\\sub1_comp.mat'\n"
     ]
    },
    {
     "ename": "TypeError",
     "evalue": "cannot unpack non-iterable NoneType object",
     "output_type": "error",
     "traceback": [
      "\u001B[1;31m---------------------------------------------------------------------------\u001B[0m",
      "\u001B[1;31mTypeError\u001B[0m                                 Traceback (most recent call last)",
      "\u001B[1;32m<ipython-input-4-e3721484a33f>\u001B[0m in \u001B[0;36m<module>\u001B[1;34m\u001B[0m\n\u001B[1;32m----> 1\u001B[1;33m \u001B[0mX\u001B[0m\u001B[1;33m,\u001B[0m \u001B[0my\u001B[0m \u001B[1;33m=\u001B[0m \u001B[0mimport_ECoG\u001B[0m\u001B[1;33m(\u001B[0m\u001B[0mdata_dir\u001B[0m\u001B[1;33m,\u001B[0m \u001B[0mfile_name\u001B[0m\u001B[1;33m,\u001B[0m \u001B[1;36m0\u001B[0m\u001B[1;33m)\u001B[0m\u001B[1;33m\u001B[0m\u001B[1;33m\u001B[0m\u001B[0m\n\u001B[0m\u001B[0;32m      2\u001B[0m \u001B[1;33m\u001B[0m\u001B[0m\n\u001B[0;32m      3\u001B[0m \u001B[0mprint\u001B[0m\u001B[1;33m(\u001B[0m\u001B[1;34m'Example of fingers position : {}'\u001B[0m\u001B[1;33m.\u001B[0m\u001B[0mformat\u001B[0m\u001B[1;33m(\u001B[0m\u001B[0my\u001B[0m\u001B[1;33m[\u001B[0m\u001B[1;36m0\u001B[0m\u001B[1;33m]\u001B[0m\u001B[1;33m)\u001B[0m\u001B[1;33m)\u001B[0m\u001B[1;33m\u001B[0m\u001B[1;33m\u001B[0m\u001B[0m\n\u001B[0;32m      4\u001B[0m \u001B[0mprint\u001B[0m\u001B[1;33m(\u001B[0m\u001B[1;34m'epochs with events generation'\u001B[0m\u001B[1;33m)\u001B[0m\u001B[1;33m\u001B[0m\u001B[1;33m\u001B[0m\u001B[0m\n\u001B[0;32m      5\u001B[0m \u001B[0mepochs\u001B[0m \u001B[1;33m=\u001B[0m \u001B[0mcreate_epoch\u001B[0m\u001B[1;33m(\u001B[0m\u001B[0mX\u001B[0m\u001B[1;33m,\u001B[0m \u001B[0msampling_rate\u001B[0m\u001B[1;33m,\u001B[0m \u001B[0mduration\u001B[0m\u001B[1;33m=\u001B[0m\u001B[1;36m0.5\u001B[0m\u001B[1;33m,\u001B[0m \u001B[0moverlap\u001B[0m\u001B[1;33m=\u001B[0m\u001B[1;36m0.25\u001B[0m\u001B[1;33m,\u001B[0m \u001B[0mds_factor\u001B[0m\u001B[1;33m=\u001B[0m\u001B[1;36m1\u001B[0m\u001B[1;33m)\u001B[0m\u001B[1;33m\u001B[0m\u001B[1;33m\u001B[0m\u001B[0m\n",
      "\u001B[1;31mTypeError\u001B[0m: cannot unpack non-iterable NoneType object"
     ]
    }
   ],
   "source": [
    "X, y = import_ECoG(data_dir, file_name, 0)\n",
    "\n",
    "print('Example of fingers position : {}'.format(y[0]))\n",
    "print('epochs with events generation')\n",
    "epochs = create_epoch(X, sampling_rate, duration=0.5, overlap=0.25, ds_factor=1)"
   ],
   "metadata": {
    "collapsed": false,
    "pycharm": {
     "name": "#%%\n"
    }
   }
  },
  {
   "cell_type": "code",
   "execution_count": null,
   "outputs": [],
   "source": [
    "X = epochs.get_data()\n",
    "print(X.shape)"
   ],
   "metadata": {
    "collapsed": false,
    "pycharm": {
     "name": "#%%\n"
    }
   }
  },
  {
   "cell_type": "markdown",
   "source": [
    "Now that the input data are grouped in epochs, the Y has to be reshaped in order to have one output per epoch.\n",
    "We are simply taking the mean of the 500 original time points."
   ],
   "metadata": {
    "collapsed": false
   }
  },
  {
   "cell_type": "code",
   "execution_count": null,
   "outputs": [],
   "source": [
    "y = y_resampling(y, X.shape[0])"
   ],
   "metadata": {
    "collapsed": false,
    "pycharm": {
     "name": "#%%\n"
    }
   }
  },
  {
   "cell_type": "markdown",
   "source": [
    "Now we split the dataset in training and test set."
   ],
   "metadata": {
    "collapsed": false,
    "pycharm": {
     "name": "#%% md\n"
    }
   }
  },
  {
   "cell_type": "code",
   "execution_count": null,
   "outputs": [],
   "source": [
    "print('X shape {}, y shape {}'.format(X.shape, y.shape))\n",
    "\n",
    "X_train, X_test, y_train, y_test = split_data(X, y, 0.3)\n",
    "\n",
    "print('X_train shape {}, y_train shape {} \\n X_test shape {}, y_test shape {}'\n",
    "      .format(X_train.shape, y_train.shape, X_test.shape, y_test.shape))"
   ],
   "metadata": {
    "collapsed": false,
    "pycharm": {
     "name": "#%%\n"
    }
   }
  },
  {
   "cell_type": "markdown",
   "source": [
    "After the slit of the dataset the we train the model. First, we generate a Pipeline with the SPoC model and the Ridge Linear Regression.\n",
    "Than we train different pipeline tuning the n_components of the SPoC algorithm."
   ],
   "metadata": {
    "collapsed": false,
    "pycharm": {
     "name": "#%% md\n"
    }
   }
  },
  {
   "cell_type": "code",
   "execution_count": null,
   "outputs": [],
   "source": [
    "if set_train:\n",
    "    pipeline = Pipeline([('Spoc', SPoc(log=True, reg='oas', rank='full')),\n",
    "                    ('Ridge', Ridge())])\n",
    "\n",
    "# tuned_parameters = [{'Spoc__n_components': list(np.arange(2, 5))}]\n",
    "    cv = KFold(n_splits=10, shuffle=False)\n",
    "    tuned_parameters = [{'Spoc__n_components': list(map(int, list(np.arange(2, 21))))}]\n",
    "\n",
    "    model = GridSearchCV(pipeline, tuned_parameters, scoring= 'neg_mean_squared_error', n_jobs=-1, cv=cv)\n",
    "\n",
    "    start = time.time()\n",
    "    print('Start Fitting model ...')\n",
    "    model.fit(X_train, y_train)\n",
    "\n",
    "    print(f'Training time : {time.time() - start}s ')\n",
    "    print('Number of cross-validation splits folds/iteration: {}'.format(model.n_splits_))\n",
    "    print('Best Score and parameter combination: ')\n",
    "    print(model.best_score_)\n",
    "    print(model.best_params_)\n",
    "    save_skl_model(model, model_path, 'BaselineModel_SPoC_Best.p')\n",
    "else:\n",
    "    if not os.path.exists(os.path.join(model_path, 'BaselineModel_SPoC_Best.p')):\n",
    "        print('Model does not exist, consider to set the set_train variable to True')\n",
    "    else:\n",
    "        model = load_skl_model(os.path.join(model_path, 'BaselineModel_SPoC_Best.p'))\n",
    "        print('Number of cross-validation splits folds/iteration: {}'.format(model.n_splits_))\n",
    "        print('Best Score and parameter combination: ')\n",
    "        print(model.best_score_)\n",
    "        print(model.best_params_)"
   ],
   "metadata": {
    "collapsed": false,
    "pycharm": {
     "name": "#%%\n"
    }
   }
  },
  {
   "cell_type": "markdown",
   "source": [
    "Following a plot that summarise the n_component parameter selection."
   ],
   "metadata": {
    "collapsed": false,
    "pycharm": {
     "name": "#%% md\n"
    }
   }
  },
  {
   "cell_type": "code",
   "execution_count": null,
   "outputs": [],
   "source": [
    "n_components = np.ma.getdata(model.cv_results_['param_Spoc__n_components'])\n",
    "MSEs = model.cv_results_['mean_test_score']\n",
    "\n",
    "fig, ax = plt.subplots(1, 1, figsize=[10, 4])\n",
    "ax.plot(n_components, MSEs, color='b')\n",
    "ax.set_xlabel('Number of SPoC components')\n",
    "ax.set_ylabel('MSE')\n",
    "ax.set_title('SPoC Components Analysis')\n",
    "# plt.legend()\n",
    "plt.xticks(n_components, n_components)\n",
    "mne.viz.tight_layout()\n",
    "plt.savefig(os.path.join(figure_path, 'SPoC_Components_Analysis.pdf'))\n",
    "plt.show()"
   ],
   "metadata": {
    "collapsed": false,
    "pycharm": {
     "name": "#%%\n"
    }
   }
  },
  {
   "cell_type": "markdown",
   "source": [
    "Now that the model is fitted and we know the best parameter, we can predict the y_pred. And calculate the MSE and MAE\n",
    "on the test set of the best model."
   ],
   "metadata": {
    "collapsed": false,
    "pycharm": {
     "name": "#%% md\n"
    }
   }
  },
  {
   "cell_type": "code",
   "execution_count": null,
   "outputs": [],
   "source": [
    "y_pred = model.predict(X_test)\n",
    "print('mean squared error {}'.format(mean_squared_error(y_test, y_pred)))\n",
    "print('mean absolute error {}'.format(mean_absolute_error(y_test, y_pred)))"
   ],
   "metadata": {
    "collapsed": false,
    "pycharm": {
     "name": "#%%\n"
    }
   }
  },
  {
   "cell_type": "markdown",
   "source": [
    "Plot the y predicted respect to the true y."
   ],
   "metadata": {
    "collapsed": false
   }
  },
  {
   "cell_type": "code",
   "execution_count": null,
   "outputs": [],
   "source": [
    "fig, ax = plt.subplots(1, 1, figsize=[10, 4])\n",
    "times = np.arange(y_pred.shape[0])\n",
    "ax.plot(times, y_pred, color='b', label='Predicted')\n",
    "ax.plot(times, y_test, color='r', label='True')\n",
    "ax.set_xlabel('Epoch')\n",
    "ax.set_ylabel('Finger Movement')\n",
    "ax.set_title('SPoC Finger Movement')\n",
    "plt.legend()\n",
    "mne.viz.tight_layout()\n",
    "plt.savefig(os.path.join(figure_path, 'SPoC_Finger_Prediction.pdf'))\n",
    "plt.show()"
   ],
   "metadata": {
    "collapsed": false,
    "pycharm": {
     "name": "#%%\n"
    }
   }
  },
  {
   "cell_type": "code",
   "execution_count": null,
   "outputs": [],
   "source": [
    "# mne.set_log_level(verbose='WARNING')\n",
    "mne.set_config('MNE_LOGGING_LEVEL', 'WARNING')\n",
    "print(mne.get_config('MNE_LOGGING_LEVEL'))"
   ],
   "metadata": {
    "collapsed": false,
    "pycharm": {
     "name": "#%%\n"
    }
   }
  }
 ],
 "metadata": {
  "kernelspec": {
   "display_name": "Python 3",
   "language": "python",
   "name": "python3"
  },
  "language_info": {
   "codemirror_mode": {
    "name": "ipython",
    "version": 2
   },
   "file_extension": ".py",
   "mimetype": "text/x-python",
   "name": "python",
   "nbconvert_exporter": "python",
   "pygments_lexer": "ipython2",
   "version": "2.7.6"
  }
 },
 "nbformat": 4,
 "nbformat_minor": 0
}